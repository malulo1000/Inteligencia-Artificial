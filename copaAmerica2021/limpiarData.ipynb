{
 "cells": [
  {
   "cell_type": "code",
   "execution_count": 16,
   "metadata": {},
   "outputs": [],
   "source": [
    "import pandas as pd"
   ]
  },
  {
   "cell_type": "markdown",
   "metadata": {},
   "source": [
    "# Limpiando data"
   ]
  },
  {
   "cell_type": "code",
   "execution_count": 17,
   "metadata": {},
   "outputs": [],
   "source": [
    "df_data_historica_SAC = pd.read_csv('copa_america_SAC_historical_data.csv')\n",
    "df_data_historica_CA = pd.read_csv('copa_america_CA_historical_data.csv')\n",
    "df_data_historica = pd.concat([df_data_historica_SAC, df_data_historica_CA], ignore_index=True)\n",
    "\n",
    "df_fixture=pd.read_csv('copa_america_fixture.csv')\n",
    "\n",
    "df_data_faltante_SAC = pd.read_csv('copa_america_SAC_missing_data.csv')\n",
    "df_data_faltante_CA = pd.read_csv('copa_america_CA_missing_data.csv')\n",
    "df_data_faltante = pd.concat([df_data_faltante_SAC, df_data_faltante_CA], ignore_index=True)"
   ]
  },
  {
   "cell_type": "markdown",
   "metadata": {},
   "source": [
    "## 1.1 Limpiando df_fixture"
   ]
  },
  {
   "cell_type": "code",
   "execution_count": 18,
   "metadata": {},
   "outputs": [
    {
     "data": {
      "text/html": [
       "<div>\n",
       "<style scoped>\n",
       "    .dataframe tbody tr th:only-of-type {\n",
       "        vertical-align: middle;\n",
       "    }\n",
       "\n",
       "    .dataframe tbody tr th {\n",
       "        vertical-align: top;\n",
       "    }\n",
       "\n",
       "    .dataframe thead th {\n",
       "        text-align: right;\n",
       "    }\n",
       "</style>\n",
       "<table border=\"1\" class=\"dataframe\">\n",
       "  <thead>\n",
       "    <tr style=\"text-align: right;\">\n",
       "      <th></th>\n",
       "      <th>home</th>\n",
       "      <th>score</th>\n",
       "      <th>away</th>\n",
       "      <th>year</th>\n",
       "    </tr>\n",
       "  </thead>\n",
       "  <tbody>\n",
       "    <tr>\n",
       "      <th>0</th>\n",
       "      <td>Argentina</td>\n",
       "      <td>1–1</td>\n",
       "      <td>Chile</td>\n",
       "      <td>2021</td>\n",
       "    </tr>\n",
       "    <tr>\n",
       "      <th>1</th>\n",
       "      <td>Paraguay</td>\n",
       "      <td>3–1</td>\n",
       "      <td>Bolivia</td>\n",
       "      <td>2021</td>\n",
       "    </tr>\n",
       "    <tr>\n",
       "      <th>2</th>\n",
       "      <td>Chile</td>\n",
       "      <td>1–0</td>\n",
       "      <td>Bolivia</td>\n",
       "      <td>2021</td>\n",
       "    </tr>\n",
       "    <tr>\n",
       "      <th>3</th>\n",
       "      <td>Argentina</td>\n",
       "      <td>1–0</td>\n",
       "      <td>Uruguay</td>\n",
       "      <td>2021</td>\n",
       "    </tr>\n",
       "    <tr>\n",
       "      <th>4</th>\n",
       "      <td>Uruguay</td>\n",
       "      <td>1–1</td>\n",
       "      <td>Chile</td>\n",
       "      <td>2021</td>\n",
       "    </tr>\n",
       "    <tr>\n",
       "      <th>5</th>\n",
       "      <td>Argentina</td>\n",
       "      <td>1–0</td>\n",
       "      <td>Paraguay</td>\n",
       "      <td>2021</td>\n",
       "    </tr>\n",
       "    <tr>\n",
       "      <th>6</th>\n",
       "      <td>Bolivia</td>\n",
       "      <td>0–2</td>\n",
       "      <td>Uruguay</td>\n",
       "      <td>2021</td>\n",
       "    </tr>\n",
       "    <tr>\n",
       "      <th>7</th>\n",
       "      <td>Chile</td>\n",
       "      <td>Match 16</td>\n",
       "      <td>Paraguay</td>\n",
       "      <td>2021</td>\n",
       "    </tr>\n",
       "    <tr>\n",
       "      <th>8</th>\n",
       "      <td>Uruguay</td>\n",
       "      <td>Match 19</td>\n",
       "      <td>Paraguay</td>\n",
       "      <td>2021</td>\n",
       "    </tr>\n",
       "    <tr>\n",
       "      <th>9</th>\n",
       "      <td>Bolivia</td>\n",
       "      <td>Match 20</td>\n",
       "      <td>Argentina</td>\n",
       "      <td>2021</td>\n",
       "    </tr>\n",
       "    <tr>\n",
       "      <th>10</th>\n",
       "      <td>Brazil</td>\n",
       "      <td>3–0</td>\n",
       "      <td>Venezuela</td>\n",
       "      <td>2021</td>\n",
       "    </tr>\n",
       "    <tr>\n",
       "      <th>11</th>\n",
       "      <td>Colombia</td>\n",
       "      <td>1–0</td>\n",
       "      <td>Ecuador</td>\n",
       "      <td>2021</td>\n",
       "    </tr>\n",
       "    <tr>\n",
       "      <th>12</th>\n",
       "      <td>Colombia</td>\n",
       "      <td>0–0</td>\n",
       "      <td>Venezuela</td>\n",
       "      <td>2021</td>\n",
       "    </tr>\n",
       "    <tr>\n",
       "      <th>13</th>\n",
       "      <td>Brazil</td>\n",
       "      <td>4–0</td>\n",
       "      <td>Peru</td>\n",
       "      <td>2021</td>\n",
       "    </tr>\n",
       "    <tr>\n",
       "      <th>14</th>\n",
       "      <td>Venezuela</td>\n",
       "      <td>2–2</td>\n",
       "      <td>Ecuador</td>\n",
       "      <td>2021</td>\n",
       "    </tr>\n",
       "    <tr>\n",
       "      <th>15</th>\n",
       "      <td>Colombia</td>\n",
       "      <td>1–2</td>\n",
       "      <td>Peru</td>\n",
       "      <td>2021</td>\n",
       "    </tr>\n",
       "    <tr>\n",
       "      <th>16</th>\n",
       "      <td>Ecuador</td>\n",
       "      <td>2–2</td>\n",
       "      <td>Peru</td>\n",
       "      <td>2021</td>\n",
       "    </tr>\n",
       "    <tr>\n",
       "      <th>17</th>\n",
       "      <td>Brazil</td>\n",
       "      <td>2–1</td>\n",
       "      <td>Colombia</td>\n",
       "      <td>2021</td>\n",
       "    </tr>\n",
       "    <tr>\n",
       "      <th>18</th>\n",
       "      <td>Brazil</td>\n",
       "      <td>Match 17</td>\n",
       "      <td>Ecuador</td>\n",
       "      <td>2021</td>\n",
       "    </tr>\n",
       "    <tr>\n",
       "      <th>19</th>\n",
       "      <td>Venezuela</td>\n",
       "      <td>Match 18</td>\n",
       "      <td>Peru</td>\n",
       "      <td>2021</td>\n",
       "    </tr>\n",
       "    <tr>\n",
       "      <th>20</th>\n",
       "      <td>Runner-up Group B</td>\n",
       "      <td>Match 21</td>\n",
       "      <td>3rd Group A</td>\n",
       "      <td>2021</td>\n",
       "    </tr>\n",
       "    <tr>\n",
       "      <th>21</th>\n",
       "      <td>Brazil</td>\n",
       "      <td>Match 22</td>\n",
       "      <td>4th Group A</td>\n",
       "      <td>2021</td>\n",
       "    </tr>\n",
       "    <tr>\n",
       "      <th>22</th>\n",
       "      <td>Runner-up Group A</td>\n",
       "      <td>Match 23</td>\n",
       "      <td>3rd Group B</td>\n",
       "      <td>2021</td>\n",
       "    </tr>\n",
       "    <tr>\n",
       "      <th>23</th>\n",
       "      <td>Winner Group A</td>\n",
       "      <td>Match 24</td>\n",
       "      <td>4th Group B</td>\n",
       "      <td>2021</td>\n",
       "    </tr>\n",
       "    <tr>\n",
       "      <th>24</th>\n",
       "      <td>Winner Match 22</td>\n",
       "      <td>Match 25</td>\n",
       "      <td>Winner Match 21</td>\n",
       "      <td>2021</td>\n",
       "    </tr>\n",
       "    <tr>\n",
       "      <th>25</th>\n",
       "      <td>Winner Match 24</td>\n",
       "      <td>Match 26</td>\n",
       "      <td>Winner Match 23</td>\n",
       "      <td>2021</td>\n",
       "    </tr>\n",
       "    <tr>\n",
       "      <th>26</th>\n",
       "      <td>Loser Match 26</td>\n",
       "      <td>Match 27</td>\n",
       "      <td>Loser Match 25</td>\n",
       "      <td>2021</td>\n",
       "    </tr>\n",
       "    <tr>\n",
       "      <th>27</th>\n",
       "      <td>Winner Match 26</td>\n",
       "      <td>Match 28</td>\n",
       "      <td>Winner Match 25</td>\n",
       "      <td>2021</td>\n",
       "    </tr>\n",
       "  </tbody>\n",
       "</table>\n",
       "</div>"
      ],
      "text/plain": [
       "                 home     score             away  year\n",
       "0           Argentina       1–1            Chile  2021\n",
       "1            Paraguay       3–1          Bolivia  2021\n",
       "2               Chile       1–0          Bolivia  2021\n",
       "3           Argentina       1–0          Uruguay  2021\n",
       "4             Uruguay       1–1            Chile  2021\n",
       "5           Argentina       1–0         Paraguay  2021\n",
       "6             Bolivia       0–2          Uruguay  2021\n",
       "7               Chile  Match 16         Paraguay  2021\n",
       "8             Uruguay  Match 19         Paraguay  2021\n",
       "9             Bolivia  Match 20        Argentina  2021\n",
       "10             Brazil       3–0        Venezuela  2021\n",
       "11           Colombia       1–0          Ecuador  2021\n",
       "12           Colombia       0–0        Venezuela  2021\n",
       "13             Brazil       4–0             Peru  2021\n",
       "14          Venezuela       2–2          Ecuador  2021\n",
       "15           Colombia       1–2             Peru  2021\n",
       "16            Ecuador       2–2             Peru  2021\n",
       "17             Brazil       2–1         Colombia  2021\n",
       "18             Brazil  Match 17          Ecuador  2021\n",
       "19          Venezuela  Match 18             Peru  2021\n",
       "20  Runner-up Group B  Match 21      3rd Group A  2021\n",
       "21             Brazil  Match 22      4th Group A  2021\n",
       "22  Runner-up Group A  Match 23      3rd Group B  2021\n",
       "23     Winner Group A  Match 24      4th Group B  2021\n",
       "24    Winner Match 22  Match 25  Winner Match 21  2021\n",
       "25    Winner Match 24  Match 26  Winner Match 23  2021\n",
       "26     Loser Match 26  Match 27   Loser Match 25  2021\n",
       "27    Winner Match 26  Match 28  Winner Match 25  2021"
      ]
     },
     "execution_count": 18,
     "metadata": {},
     "output_type": "execute_result"
    }
   ],
   "source": [
    "df_fixture['home']=df_fixture['home'].str.strip()\n",
    "df_fixture['away']=df_fixture['away'].str.strip()\n",
    "df_fixture"
   ]
  },
  {
   "cell_type": "markdown",
   "metadata": {},
   "source": [
    "## 1.2 Limpiando df_missing_data y agregando a df_historical"
   ]
  },
  {
   "cell_type": "code",
   "execution_count": 19,
   "metadata": {},
   "outputs": [
    {
     "name": "stdout",
     "output_type": "stream",
     "text": [
      "          home score      away  year\n",
      "0      Uruguay   4–0     Chile  1916\n",
      "1    Argentina   6–1     Chile  1916\n",
      "2       Brazil   1–1     Chile  1916\n",
      "3    Argentina   1–1    Brazil  1916\n",
      "4      Uruguay   2–1    Brazil  1916\n",
      "..         ...   ...       ...   ...\n",
      "721  Venezuela   0–0      Peru  2019\n",
      "720     Brazil   3–0   Bolivia  2019\n",
      "744  Argentina   2–1     Chile  2019\n",
      "731   Colombia   1–0  Paraguay  2019\n",
      "745     Brazil   3–1      Peru  2019\n",
      "\n",
      "[746 rows x 4 columns]\n"
     ]
    }
   ],
   "source": [
    "import pandas as pd\n",
    "df_data_historica = pd.concat([df_data_historica, df_data_faltante], ignore_index=True)\n",
    "\n",
    "df_data_historica['home'] = df_data_historica['home'].str.replace('Â ', '').str.strip()\n",
    "df_data_historica['score'] = df_data_historica['score'].str.replace('Â ', '').str.strip()\n",
    "df_data_historica['away'] = df_data_historica['away'].str.replace('Â ', '').str.strip()\n",
    "\n",
    "df_data_historica.drop_duplicates(inplace=True)\n",
    "\n",
    "df_data_historica.sort_values('year', inplace=True)\n",
    "\n",
    "print(df_data_historica)"
   ]
  },
  {
   "cell_type": "markdown",
   "metadata": {},
   "source": [
    "## 1.3 Limpiando df_historical_data"
   ]
  },
  {
   "cell_type": "markdown",
   "metadata": {},
   "source": []
  },
  {
   "cell_type": "code",
   "execution_count": 20,
   "metadata": {},
   "outputs": [],
   "source": [
    "index_eliminar=df_data_historica[df_data_historica['home'].str.contains('Sweden')&\n",
    "                  df_data_historica['away'].str.contains('Austria')].index"
   ]
  },
  {
   "cell_type": "code",
   "execution_count": 21,
   "metadata": {},
   "outputs": [],
   "source": [
    "df_data_historica.drop(index=index_eliminar, inplace=True)"
   ]
  },
  {
   "cell_type": "code",
   "execution_count": 22,
   "metadata": {},
   "outputs": [],
   "source": [
    "df_data_historica['score']=df_data_historica['score'].str.replace('[^\\d–]','',regex=True)"
   ]
  },
  {
   "cell_type": "code",
   "execution_count": 23,
   "metadata": {},
   "outputs": [],
   "source": [
    "df_data_historica['home']=df_data_historica['home'].str.strip()\n",
    "df_data_historica['away']=df_data_historica['away'].str.strip()"
   ]
  },
  {
   "cell_type": "code",
   "execution_count": 24,
   "metadata": {},
   "outputs": [],
   "source": [
    "df_data_historica[['HomeGoals','AwayGoals']]=df_data_historica['score'].str.split('–', expand=True)"
   ]
  },
  {
   "cell_type": "code",
   "execution_count": 25,
   "metadata": {},
   "outputs": [],
   "source": [
    "df_data_historica.drop('score', axis=1, inplace=True)"
   ]
  },
  {
   "cell_type": "code",
   "execution_count": 26,
   "metadata": {},
   "outputs": [],
   "source": [
    "df_data_historica.rename(columns={'home':'HomeTeam','away':'AwayTeam','year':'Year'}, inplace=True)"
   ]
  },
  {
   "cell_type": "code",
   "execution_count": 27,
   "metadata": {},
   "outputs": [],
   "source": [
    "df_data_historica=df_data_historica.astype({'HomeGoals':int,\n",
    "                         'AwayGoals':int,\n",
    "                         'Year':int})"
   ]
  },
  {
   "cell_type": "code",
   "execution_count": 28,
   "metadata": {},
   "outputs": [],
   "source": [
    "df_data_historica['TotalGoals']=df_data_historica['HomeGoals']+df_data_historica['AwayGoals']"
   ]
  },
  {
   "cell_type": "code",
   "execution_count": 29,
   "metadata": {},
   "outputs": [],
   "source": [
    "df_data_historica.to_csv('clean_copa_america_matches.csv', index=False)\n",
    "df_fixture.to_csv('clean_copa_america_fixture.csv', index=False)"
   ]
  },
  {
   "cell_type": "code",
   "execution_count": 30,
   "metadata": {},
   "outputs": [
    {
     "name": "stdout",
     "output_type": "stream",
     "text": [
      "1916 6\n",
      "1917 6\n",
      "1919 7\n",
      "1920 6\n",
      "1921 6\n",
      "1922 11\n",
      "1923 6\n",
      "1924 6\n",
      "1925 6\n",
      "1926 10\n",
      "1927 6\n",
      "1929 6\n",
      "1935 6\n",
      "1937 16\n",
      "1939 10\n",
      "1941 10\n",
      "1942 21\n",
      "1945 21\n",
      "1946 15\n",
      "1947 28\n",
      "1949 29\n",
      "1953 22\n",
      "1955 15\n",
      "1956 15\n",
      "1957 21\n",
      "1959 0\n",
      "1959 0\n",
      "1963 21\n",
      "1967 19\n",
      "1975 25\n",
      "1979 25\n",
      "1983 24\n",
      "1987 13\n",
      "1989 26\n",
      "1991 26\n",
      "1993 26\n",
      "1995 26\n",
      "1997 26\n",
      "1999 26\n",
      "2001 26\n",
      "2004 26\n",
      "2007 26\n",
      "2011 8\n",
      "2015 8\n",
      "2016 32\n",
      "2019 26\n"
     ]
    }
   ],
   "source": [
    "years = [\n",
    "    1916, 1917, 1919, 1920, 1921, 1922, 1923,\n",
    "    1924, 1925, 1926, 1927, 1929, 1935, 1937,\n",
    "    1939, 1941, 1942, 1945, 1946, 1947, 1949,\n",
    "    1953, 1955, 1956, 1957, 1959, 1959, 1963,\n",
    "    1967, 1975, 1979, 1983, 1987, 1989, 1991,\n",
    "    1993, 1995, 1997, 1999, 2001, 2004, 2007,\n",
    "    2011, 2015, 2016, 2019\n",
    "]\n",
    "\n",
    "for year in years:\n",
    "    print(year, len(df_data_historica[df_data_historica['Year']==year]))"
   ]
  }
 ],
 "metadata": {
  "kernelspec": {
   "display_name": "base",
   "language": "python",
   "name": "python3"
  },
  "language_info": {
   "codemirror_mode": {
    "name": "ipython",
    "version": 3
   },
   "file_extension": ".py",
   "mimetype": "text/x-python",
   "name": "python",
   "nbconvert_exporter": "python",
   "pygments_lexer": "ipython3",
   "version": "3.11.5"
  }
 },
 "nbformat": 4,
 "nbformat_minor": 2
}
